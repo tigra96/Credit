{
 "cells": [
  {
   "cell_type": "code",
   "execution_count": 74,
   "metadata": {
    "collapsed": true
   },
   "outputs": [],
   "source": [
    "from random import normalvariate, randint\n",
    "from math import fabs, floor"
   ]
  },
  {
   "cell_type": "code",
   "execution_count": 109,
   "metadata": {
    "collapsed": true
   },
   "outputs": [],
   "source": [
    "file_obj = open('families.txt', 'r')"
   ]
  },
  {
   "cell_type": "code",
   "execution_count": 110,
   "metadata": {
    "collapsed": false
   },
   "outputs": [],
   "source": [
    "data = list(file_obj)"
   ]
  },
  {
   "cell_type": "code",
   "execution_count": 127,
   "metadata": {
    "collapsed": false
   },
   "outputs": [],
   "source": [
    "data_splited = []\n",
    "s = \".\";\n",
    "\n",
    "for i in range(len(data)):\n",
    "    buf = data[i].split()\n",
    "\n",
    "    bufbuf = buf[len(buf)-1].split('.')\n",
    "    bufbuf[2] = randint(1950, 1997)\n",
    "    buf[len(buf)-1] = s.join([str(bufbuf[0]), str(bufbuf[1]), str(bufbuf[2])])\n",
    "    \n",
    "    data_splited.append([i+1, buf[0], buf[1], buf[2], buf[len(buf)-1], int(fabs(round(normalvariate(2, 1)))), \n",
    "                         int(fabs(floor(normalvariate(0, 0.01)))), int(fabs(round(normalvariate(0, 1))))])\n"
   ]
  },
  {
   "cell_type": "code",
   "execution_count": 128,
   "metadata": {
    "collapsed": true
   },
   "outputs": [],
   "source": [
    "with open('BOCH.txt', 'w') as file_write:\n",
    "    file_write.writelines(data_splited + '\\n' for data_splited in map(str, data_splited))"
   ]
  }
 ],
 "metadata": {
  "anaconda-cloud": {},
  "kernelspec": {
   "display_name": "Python [Root]",
   "language": "python",
   "name": "Python [Root]"
  },
  "language_info": {
   "codemirror_mode": {
    "name": "ipython",
    "version": 3
   },
   "file_extension": ".py",
   "mimetype": "text/x-python",
   "name": "python",
   "nbconvert_exporter": "python",
   "pygments_lexer": "ipython3",
   "version": "3.5.2"
  }
 },
 "nbformat": 4,
 "nbformat_minor": 0
}

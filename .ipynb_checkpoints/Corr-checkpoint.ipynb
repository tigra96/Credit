{
 "cells": [
  {
   "cell_type": "code",
   "execution_count": 5,
   "metadata": {
    "collapsed": false
   },
   "outputs": [
    {
     "name": "stderr",
     "output_type": "stream",
     "text": [
      "C:\\Users\\Sasha\\Anaconda2\\lib\\site-packages\\pandas\\computation\\__init__.py:19: UserWarning: The installed version of numexpr 2.4.4 is not supported in pandas and will be not be used\n",
      "\n",
      "  UserWarning)\n"
     ]
    }
   ],
   "source": [
    "import pandas as pd"
   ]
  },
  {
   "cell_type": "code",
   "execution_count": 6,
   "metadata": {
    "collapsed": false
   },
   "outputs": [],
   "source": [
    "data = pd.read_csv('complete.csv', sep=',', header=None)"
   ]
  },
  {
   "cell_type": "code",
   "execution_count": 9,
   "metadata": {
    "collapsed": false
   },
   "outputs": [
    {
     "data": {
      "text/html": [
       "<div>\n",
       "<table border=\"1\" class=\"dataframe\">\n",
       "  <thead>\n",
       "    <tr style=\"text-align: right;\">\n",
       "      <th></th>\n",
       "      <th>0</th>\n",
       "      <th>1</th>\n",
       "      <th>2</th>\n",
       "      <th>3</th>\n",
       "      <th>4</th>\n",
       "      <th>5</th>\n",
       "      <th>6</th>\n",
       "      <th>7</th>\n",
       "      <th>8</th>\n",
       "      <th>9</th>\n",
       "    </tr>\n",
       "  </thead>\n",
       "  <tbody>\n",
       "    <tr>\n",
       "      <th>0</th>\n",
       "      <td>1.000000</td>\n",
       "      <td>0.012128</td>\n",
       "      <td>0.014357</td>\n",
       "      <td>0.009844</td>\n",
       "      <td>0.007260</td>\n",
       "      <td>0.003453</td>\n",
       "      <td>0.001928</td>\n",
       "      <td>0.006628</td>\n",
       "      <td>0.001995</td>\n",
       "      <td>-0.010002</td>\n",
       "    </tr>\n",
       "    <tr>\n",
       "      <th>1</th>\n",
       "      <td>0.012128</td>\n",
       "      <td>1.000000</td>\n",
       "      <td>0.716122</td>\n",
       "      <td>0.565728</td>\n",
       "      <td>-0.479648</td>\n",
       "      <td>-0.007684</td>\n",
       "      <td>0.402844</td>\n",
       "      <td>0.788442</td>\n",
       "      <td>-0.492688</td>\n",
       "      <td>-0.597091</td>\n",
       "    </tr>\n",
       "    <tr>\n",
       "      <th>2</th>\n",
       "      <td>0.014357</td>\n",
       "      <td>0.716122</td>\n",
       "      <td>1.000000</td>\n",
       "      <td>0.397227</td>\n",
       "      <td>0.023842</td>\n",
       "      <td>-0.001519</td>\n",
       "      <td>0.284560</td>\n",
       "      <td>0.567492</td>\n",
       "      <td>-0.358970</td>\n",
       "      <td>-0.429405</td>\n",
       "    </tr>\n",
       "    <tr>\n",
       "      <th>3</th>\n",
       "      <td>0.009844</td>\n",
       "      <td>0.565728</td>\n",
       "      <td>0.397227</td>\n",
       "      <td>1.000000</td>\n",
       "      <td>-0.282061</td>\n",
       "      <td>0.005997</td>\n",
       "      <td>0.231120</td>\n",
       "      <td>0.444604</td>\n",
       "      <td>-0.288590</td>\n",
       "      <td>-0.344019</td>\n",
       "    </tr>\n",
       "    <tr>\n",
       "      <th>4</th>\n",
       "      <td>0.007260</td>\n",
       "      <td>-0.479648</td>\n",
       "      <td>0.023842</td>\n",
       "      <td>-0.282061</td>\n",
       "      <td>1.000000</td>\n",
       "      <td>0.004780</td>\n",
       "      <td>-0.195105</td>\n",
       "      <td>-0.386868</td>\n",
       "      <td>0.236027</td>\n",
       "      <td>0.289404</td>\n",
       "    </tr>\n",
       "    <tr>\n",
       "      <th>5</th>\n",
       "      <td>0.003453</td>\n",
       "      <td>-0.007684</td>\n",
       "      <td>-0.001519</td>\n",
       "      <td>0.005997</td>\n",
       "      <td>0.004780</td>\n",
       "      <td>1.000000</td>\n",
       "      <td>-0.004647</td>\n",
       "      <td>-0.003971</td>\n",
       "      <td>0.013070</td>\n",
       "      <td>-0.000287</td>\n",
       "    </tr>\n",
       "    <tr>\n",
       "      <th>6</th>\n",
       "      <td>0.001928</td>\n",
       "      <td>0.402844</td>\n",
       "      <td>0.284560</td>\n",
       "      <td>0.231120</td>\n",
       "      <td>-0.195105</td>\n",
       "      <td>-0.004647</td>\n",
       "      <td>1.000000</td>\n",
       "      <td>0.319966</td>\n",
       "      <td>-0.196596</td>\n",
       "      <td>-0.231221</td>\n",
       "    </tr>\n",
       "    <tr>\n",
       "      <th>7</th>\n",
       "      <td>0.006628</td>\n",
       "      <td>0.788442</td>\n",
       "      <td>0.567492</td>\n",
       "      <td>0.444604</td>\n",
       "      <td>-0.386868</td>\n",
       "      <td>-0.003971</td>\n",
       "      <td>0.319966</td>\n",
       "      <td>1.000000</td>\n",
       "      <td>-0.387766</td>\n",
       "      <td>-0.468817</td>\n",
       "    </tr>\n",
       "    <tr>\n",
       "      <th>8</th>\n",
       "      <td>0.001995</td>\n",
       "      <td>-0.492688</td>\n",
       "      <td>-0.358970</td>\n",
       "      <td>-0.288590</td>\n",
       "      <td>0.236027</td>\n",
       "      <td>0.013070</td>\n",
       "      <td>-0.196596</td>\n",
       "      <td>-0.387766</td>\n",
       "      <td>1.000000</td>\n",
       "      <td>0.298274</td>\n",
       "    </tr>\n",
       "    <tr>\n",
       "      <th>9</th>\n",
       "      <td>-0.010002</td>\n",
       "      <td>-0.597091</td>\n",
       "      <td>-0.429405</td>\n",
       "      <td>-0.344019</td>\n",
       "      <td>0.289404</td>\n",
       "      <td>-0.000287</td>\n",
       "      <td>-0.231221</td>\n",
       "      <td>-0.468817</td>\n",
       "      <td>0.298274</td>\n",
       "      <td>1.000000</td>\n",
       "    </tr>\n",
       "  </tbody>\n",
       "</table>\n",
       "</div>"
      ],
      "text/plain": [
       "          0         1         2         3         4         5         6  \\\n",
       "0  1.000000  0.012128  0.014357  0.009844  0.007260  0.003453  0.001928   \n",
       "1  0.012128  1.000000  0.716122  0.565728 -0.479648 -0.007684  0.402844   \n",
       "2  0.014357  0.716122  1.000000  0.397227  0.023842 -0.001519  0.284560   \n",
       "3  0.009844  0.565728  0.397227  1.000000 -0.282061  0.005997  0.231120   \n",
       "4  0.007260 -0.479648  0.023842 -0.282061  1.000000  0.004780 -0.195105   \n",
       "5  0.003453 -0.007684 -0.001519  0.005997  0.004780  1.000000 -0.004647   \n",
       "6  0.001928  0.402844  0.284560  0.231120 -0.195105 -0.004647  1.000000   \n",
       "7  0.006628  0.788442  0.567492  0.444604 -0.386868 -0.003971  0.319966   \n",
       "8  0.001995 -0.492688 -0.358970 -0.288590  0.236027  0.013070 -0.196596   \n",
       "9 -0.010002 -0.597091 -0.429405 -0.344019  0.289404 -0.000287 -0.231221   \n",
       "\n",
       "          7         8         9  \n",
       "0  0.006628  0.001995 -0.010002  \n",
       "1  0.788442 -0.492688 -0.597091  \n",
       "2  0.567492 -0.358970 -0.429405  \n",
       "3  0.444604 -0.288590 -0.344019  \n",
       "4 -0.386868  0.236027  0.289404  \n",
       "5 -0.003971  0.013070 -0.000287  \n",
       "6  0.319966 -0.196596 -0.231221  \n",
       "7  1.000000 -0.387766 -0.468817  \n",
       "8 -0.387766  1.000000  0.298274  \n",
       "9 -0.468817  0.298274  1.000000  "
      ]
     },
     "execution_count": 9,
     "metadata": {},
     "output_type": "execute_result"
    }
   ],
   "source": [
    "data.corr()"
   ]
  },
  {
   "cell_type": "code",
   "execution_count": 7,
   "metadata": {
    "collapsed": false
   },
   "outputs": [
    {
     "data": {
      "text/html": [
       "<div>\n",
       "<table border=\"1\" class=\"dataframe\">\n",
       "  <thead>\n",
       "    <tr style=\"text-align: right;\">\n",
       "      <th></th>\n",
       "      <th>0</th>\n",
       "      <th>1</th>\n",
       "      <th>2</th>\n",
       "      <th>3</th>\n",
       "      <th>4</th>\n",
       "      <th>5</th>\n",
       "      <th>6</th>\n",
       "      <th>7</th>\n",
       "      <th>8</th>\n",
       "      <th>9</th>\n",
       "    </tr>\n",
       "  </thead>\n",
       "  <tbody>\n",
       "    <tr>\n",
       "      <th>0</th>\n",
       "      <td>0</td>\n",
       "      <td>1</td>\n",
       "      <td>36000.0</td>\n",
       "      <td>32.0</td>\n",
       "      <td>276000.0</td>\n",
       "      <td>30</td>\n",
       "      <td>240</td>\n",
       "      <td>3.0</td>\n",
       "      <td>1.0</td>\n",
       "      <td>0.0</td>\n",
       "    </tr>\n",
       "    <tr>\n",
       "      <th>1</th>\n",
       "      <td>1</td>\n",
       "      <td>0</td>\n",
       "      <td>38000.0</td>\n",
       "      <td>35.0</td>\n",
       "      <td>631000.0</td>\n",
       "      <td>24</td>\n",
       "      <td>84</td>\n",
       "      <td>2.0</td>\n",
       "      <td>1.0</td>\n",
       "      <td>1.0</td>\n",
       "    </tr>\n",
       "    <tr>\n",
       "      <th>2</th>\n",
       "      <td>2</td>\n",
       "      <td>1</td>\n",
       "      <td>141000.0</td>\n",
       "      <td>61.0</td>\n",
       "      <td>645000.0</td>\n",
       "      <td>60</td>\n",
       "      <td>36</td>\n",
       "      <td>3.0</td>\n",
       "      <td>1.0</td>\n",
       "      <td>0.0</td>\n",
       "    </tr>\n",
       "    <tr>\n",
       "      <th>3</th>\n",
       "      <td>3</td>\n",
       "      <td>1</td>\n",
       "      <td>102000.0</td>\n",
       "      <td>24.0</td>\n",
       "      <td>442000.0</td>\n",
       "      <td>30</td>\n",
       "      <td>258</td>\n",
       "      <td>2.0</td>\n",
       "      <td>0.0</td>\n",
       "      <td>0.0</td>\n",
       "    </tr>\n",
       "    <tr>\n",
       "      <th>4</th>\n",
       "      <td>4</td>\n",
       "      <td>1</td>\n",
       "      <td>80000.0</td>\n",
       "      <td>51.0</td>\n",
       "      <td>182000.0</td>\n",
       "      <td>54</td>\n",
       "      <td>60</td>\n",
       "      <td>4.0</td>\n",
       "      <td>0.0</td>\n",
       "      <td>0.0</td>\n",
       "    </tr>\n",
       "  </tbody>\n",
       "</table>\n",
       "</div>"
      ],
      "text/plain": [
       "   0  1         2     3         4   5    6    7    8    9\n",
       "0  0  1   36000.0  32.0  276000.0  30  240  3.0  1.0  0.0\n",
       "1  1  0   38000.0  35.0  631000.0  24   84  2.0  1.0  1.0\n",
       "2  2  1  141000.0  61.0  645000.0  60   36  3.0  1.0  0.0\n",
       "3  3  1  102000.0  24.0  442000.0  30  258  2.0  0.0  0.0\n",
       "4  4  1   80000.0  51.0  182000.0  54   60  4.0  0.0  0.0"
      ]
     },
     "execution_count": 7,
     "metadata": {},
     "output_type": "execute_result"
    }
   ],
   "source": [
    "data.head()"
   ]
  },
  {
   "cell_type": "code",
   "execution_count": 8,
   "metadata": {
    "collapsed": false
   },
   "outputs": [],
   "source": [
    "data_1 = data[data[1] == 1]\n"
   ]
  },
  {
   "cell_type": "code",
   "execution_count": 32,
   "metadata": {
    "collapsed": false
   },
   "outputs": [],
   "source": [
    "data_1_age = data_1[3]"
   ]
  },
  {
   "cell_type": "code",
   "execution_count": 31,
   "metadata": {
    "collapsed": false
   },
   "outputs": [
    {
     "data": {
      "image/png": "[encoded data removed]",
      "text/plain": [
       "<matplotlib.figure.Figure at 0xc19d5c0>"
      ]
     },
     "metadata": {},
     "output_type": "display_data"
    }
   ],
   "source": [
    "import numpy as np\n",
    "import matplotlib.pyplot as plt\n",
    "\n",
    "x = np.arange(0, 5, 0.1);\n",
    "y = np.sin(x)\n",
    "plt.hist(list(data_1_age), bins=10)\n",
    "plt.show()"
   ]
  },
  {
   "cell_type": "code",
   "execution_count": 33,
   "metadata": {
    "collapsed": false
   },
   "outputs": [
    {
     "data": {
      "image/png": "[encoded data removed]",
      "text/plain": [
       "<matplotlib.figure.Figure at 0xc190550>"
      ]
     },
     "metadata": {},
     "output_type": "display_data"
    }
   ],
   "source": [
    "import numpy as np\n",
    "import matplotlib.pyplot as plt\n",
    "\n",
    "x = np.arange(0, 5, 0.1);\n",
    "y = np.sin(x)\n",
    "plt.hist(list(data_1_age), bins=10)\n",
    "plt.show()"
   ]
  }
 ],
 "metadata": {
  "kernelspec": {
   "display_name": "Python 2",
   "language": "python",
   "name": "python2"
  },
  "language_info": {
   "codemirror_mode": {
    "name": "ipython",
    "version": 2
   },
   "file_extension": ".py",
   "mimetype": "text/x-python",
   "name": "python",
   "nbconvert_exporter": "python",
   "pygments_lexer": "ipython2",
   "version": "2.7.11"
  }
 },
 "nbformat": 4,
 "nbformat_minor": 0
}

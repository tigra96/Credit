{
 "cells": [
  {
   "cell_type": "code",
   "execution_count": 4,
   "metadata": {
    "collapsed": true
   },
   "outputs": [],
   "source": [
    "import sqlite3 as lite\n",
    "import sys\n"
   ]
  },
  {
   "cell_type": "code",
   "execution_count": 2,
   "metadata": {
    "collapsed": false
   },
   "outputs": [
    {
     "data": {
      "text/plain": [
       "0"
      ]
     },
     "execution_count": 2,
     "metadata": {},
     "output_type": "execute_result"
    }
   ],
   "source": [
    "int(False)"
   ]
  },
  {
   "cell_type": "code",
   "execution_count": 5,
   "metadata": {
    "collapsed": false
   },
   "outputs": [],
   "source": [
    "con = lite.connect('db.sqlite3')"
   ]
  },
  {
   "cell_type": "markdown",
   "metadata": {},
   "source": [
    "# Узнать количество записей в таблице"
   ]
  },
  {
   "cell_type": "code",
   "execution_count": 9,
   "metadata": {
    "collapsed": true
   },
   "outputs": [],
   "source": [
    "with con:    \n",
    "    cur = con.cursor()    \n",
    "    cur.execute(\"SELECT count(*) FROM Admins\")  \n",
    "    rows = cur.fetchall()"
   ]
  },
  {
   "cell_type": "code",
   "execution_count": 12,
   "metadata": {
    "collapsed": false
   },
   "outputs": [
    {
     "data": {
      "text/plain": [
       "2"
      ]
     },
     "execution_count": 12,
     "metadata": {},
     "output_type": "execute_result"
    }
   ],
   "source": [
    "rows[0][0]"
   ]
  },
  {
   "cell_type": "markdown",
   "metadata": {},
   "source": [
    "# Переименование таблицы"
   ]
  },
  {
   "cell_type": "code",
   "execution_count": 48,
   "metadata": {
    "collapsed": false
   },
   "outputs": [],
   "source": [
    "with con:\n",
    "    cur = con.cursor()    \n",
    "    cur.execute(\"ALTER TABLE estimator_admins RENAME TO Admins\")\n",
    "    con.commit()"
   ]
  },
  {
   "cell_type": "markdown",
   "metadata": {},
   "source": [
    "# Вывод таблиц"
   ]
  },
  {
   "cell_type": "code",
   "execution_count": 166,
   "metadata": {
    "collapsed": false
   },
   "outputs": [],
   "source": [
    "\n",
    "Second_Name = 'Синев'\n",
    "Name = 'Иван'\n",
    "Last_Name = 'Олегович'\n",
    "Day = 20\n",
    "Month = '03'\n",
    "Year = 1954\n",
    "birth = \"-\".join([str(Year), Month, str(Day)])\n",
    "birth = birth.replace(\"-\", \".\")"
   ]
  },
  {
   "cell_type": "code",
   "execution_count": 170,
   "metadata": {
    "collapsed": false
   },
   "outputs": [],
   "source": [
    "a, b = birth.split(\".\")[0], birth.split(\".\")[2], "
   ]
  },
  {
   "cell_type": "code",
   "execution_count": 176,
   "metadata": {
    "collapsed": false
   },
   "outputs": [
    {
     "data": {
      "text/plain": [
       "0"
      ]
     },
     "execution_count": 176,
     "metadata": {},
     "output_type": "execute_result"
    }
   ],
   "source": [
    "int(False)"
   ]
  },
  {
   "cell_type": "code",
   "execution_count": 174,
   "metadata": {
    "collapsed": false
   },
   "outputs": [
    {
     "data": {
      "text/plain": [
       "'20.03.1954'"
      ]
     },
     "execution_count": 174,
     "metadata": {},
     "output_type": "execute_result"
    }
   ],
   "source": [
    "\".\".join([birth.split(\".\")[2], birth.split(\".\")[1], birth.split(\".\")[0]])"
   ]
  },
  {
   "cell_type": "code",
   "execution_count": 169,
   "metadata": {
    "collapsed": false
   },
   "outputs": [
    {
     "data": {
      "text/plain": [
       "'1954.03.20'"
      ]
     },
     "execution_count": 169,
     "metadata": {},
     "output_type": "execute_result"
    }
   ],
   "source": [
    "birth"
   ]
  },
  {
   "cell_type": "code",
   "execution_count": 126,
   "metadata": {
    "collapsed": false
   },
   "outputs": [
    {
     "data": {
      "text/plain": [
       "1974"
      ]
     },
     "execution_count": 126,
     "metadata": {},
     "output_type": "execute_result"
    }
   ],
   "source": [
    "int(birth.split(\"-\")[0])"
   ]
  },
  {
   "cell_type": "code",
   "execution_count": 158,
   "metadata": {
    "collapsed": true
   },
   "outputs": [],
   "source": [
    "with con:\n",
    "    cur = con.cursor()    \n",
    "    cur.execute(\"Select * FROM Bureau_of_Credit_Histories WHERE first_name=? and second_Name=? and third_name=? and birth=?\", [Name, Second_Name, Last_Name, birth])         \n",
    "    rows = cur.fetchall()"
   ]
  },
  {
   "cell_type": "code",
   "execution_count": 159,
   "metadata": {
    "collapsed": false
   },
   "outputs": [
    {
     "data": {
      "text/plain": [
       "1"
      ]
     },
     "execution_count": 159,
     "metadata": {},
     "output_type": "execute_result"
    }
   ],
   "source": [
    "len(rows)"
   ]
  },
  {
   "cell_type": "code",
   "execution_count": 20,
   "metadata": {
    "collapsed": false
   },
   "outputs": [],
   "source": [
    "with con:    \n",
    "    cur = con.cursor()    \n",
    "    #cur.execute(\"SELECT * FROM Bureau_of_Credit_Histories WHERE id=?\", ['7570'])  \n",
    "    #cur.execute(\"Select * FROM Bureau_of_Credit_Histories WHERE first_name=? and second_Name=? and third_name=? and birth=?\", [Name, Second_Name, Last_Name, birth])\n",
    "    #cur.execute(\"select * from sqlite_master where type = 'table'\")\n",
    "    cur.execute(\"SELECT * FROM estimator_data\")  \n",
    "    rows = cur.fetchall()\n",
    " \n"
   ]
  },
  {
   "cell_type": "code",
   "execution_count": 21,
   "metadata": {
    "collapsed": false
   },
   "outputs": [
    {
     "data": {
      "text/plain": [
       "(10001, 1, 200000, 30, 400000, 36, 56, 2, 0, 0)"
      ]
     },
     "execution_count": 21,
     "metadata": {},
     "output_type": "execute_result"
    }
   ],
   "source": [
    "rows[10001]"
   ]
  },
  {
   "cell_type": "code",
   "execution_count": 178,
   "metadata": {
    "collapsed": false
   },
   "outputs": [
    {
     "data": {
      "text/html": [
       "<div>\n",
       "<table border=\"1\" class=\"dataframe\">\n",
       "  <thead>\n",
       "    <tr style=\"text-align: right;\">\n",
       "      <th></th>\n",
       "      <th>0</th>\n",
       "      <th>1</th>\n",
       "      <th>2</th>\n",
       "      <th>3</th>\n",
       "      <th>4</th>\n",
       "    </tr>\n",
       "  </thead>\n",
       "  <tbody>\n",
       "    <tr>\n",
       "      <th>0</th>\n",
       "      <td>table</td>\n",
       "      <td>django_migrations</td>\n",
       "      <td>django_migrations</td>\n",
       "      <td>2</td>\n",
       "      <td>CREATE TABLE \"django_migrations\" (\"id\" integer...</td>\n",
       "    </tr>\n",
       "    <tr>\n",
       "      <th>1</th>\n",
       "      <td>table</td>\n",
       "      <td>sqlite_sequence</td>\n",
       "      <td>sqlite_sequence</td>\n",
       "      <td>3</td>\n",
       "      <td>CREATE TABLE sqlite_sequence(name,seq)</td>\n",
       "    </tr>\n",
       "    <tr>\n",
       "      <th>2</th>\n",
       "      <td>table</td>\n",
       "      <td>auth_group</td>\n",
       "      <td>auth_group</td>\n",
       "      <td>10</td>\n",
       "      <td>CREATE TABLE \"auth_group\" (\"id\" integer NOT NU...</td>\n",
       "    </tr>\n",
       "    <tr>\n",
       "      <th>3</th>\n",
       "      <td>table</td>\n",
       "      <td>auth_group_permissions</td>\n",
       "      <td>auth_group_permissions</td>\n",
       "      <td>12</td>\n",
       "      <td>CREATE TABLE \"auth_group_permissions\" (\"id\" in...</td>\n",
       "    </tr>\n",
       "    <tr>\n",
       "      <th>4</th>\n",
       "      <td>table</td>\n",
       "      <td>auth_user_groups</td>\n",
       "      <td>auth_user_groups</td>\n",
       "      <td>17</td>\n",
       "      <td>CREATE TABLE \"auth_user_groups\" (\"id\" integer ...</td>\n",
       "    </tr>\n",
       "  </tbody>\n",
       "</table>\n",
       "</div>"
      ],
      "text/plain": [
       "       0                       1                       2   3  \\\n",
       "0  table       django_migrations       django_migrations   2   \n",
       "1  table         sqlite_sequence         sqlite_sequence   3   \n",
       "2  table              auth_group              auth_group  10   \n",
       "3  table  auth_group_permissions  auth_group_permissions  12   \n",
       "4  table        auth_user_groups        auth_user_groups  17   \n",
       "\n",
       "                                                   4  \n",
       "0  CREATE TABLE \"django_migrations\" (\"id\" integer...  \n",
       "1             CREATE TABLE sqlite_sequence(name,seq)  \n",
       "2  CREATE TABLE \"auth_group\" (\"id\" integer NOT NU...  \n",
       "3  CREATE TABLE \"auth_group_permissions\" (\"id\" in...  \n",
       "4  CREATE TABLE \"auth_user_groups\" (\"id\" integer ...  "
      ]
     },
     "execution_count": 178,
     "metadata": {},
     "output_type": "execute_result"
    }
   ],
   "source": [
    "pd.DataFrame(rows).head()"
   ]
  },
  {
   "cell_type": "code",
   "execution_count": 7,
   "metadata": {
    "collapsed": true
   },
   "outputs": [],
   "source": [
    "context_dict = {'categories': rows}"
   ]
  },
  {
   "cell_type": "code",
   "execution_count": 20,
   "metadata": {
    "collapsed": true
   },
   "outputs": [],
   "source": [
    "with con:\n",
    "\n",
    "    cur = con.cursor()    \n",
    "    cur.execute(\"SELECT count(*) FROM Clients\")  \n",
    "    rows = cur.fetchall()"
   ]
  },
  {
   "cell_type": "code",
   "execution_count": 21,
   "metadata": {
    "collapsed": false
   },
   "outputs": [
    {
     "data": {
      "text/plain": [
       "0"
      ]
     },
     "execution_count": 21,
     "metadata": {},
     "output_type": "execute_result"
    }
   ],
   "source": [
    "rows[0][0]"
   ]
  },
  {
   "cell_type": "code",
   "execution_count": 8,
   "metadata": {
    "collapsed": false
   },
   "outputs": [
    {
     "data": {
      "text/plain": [
       "{'categories': [(1, 'tigra', '645213'), (2, 'admin1', 'qwerty')]}"
      ]
     },
     "execution_count": 8,
     "metadata": {},
     "output_type": "execute_result"
    }
   ],
   "source": [
    "context_dict"
   ]
  },
  {
   "cell_type": "code",
   "execution_count": 41,
   "metadata": {
    "collapsed": false
   },
   "outputs": [
    {
     "name": "stdout",
     "output_type": "stream",
     "text": [
      "sasha\n"
     ]
    }
   ],
   "source": [
    "b = 0\n",
    "\n",
    "for i in range(len(rows)):\n",
    "    if log == rows[i][1] and password == rows[i][2]:\n",
    "        b = 1\n",
    "        \n",
    "if b: \n",
    "    print (\"sasha\")"
   ]
  },
  {
   "cell_type": "code",
   "execution_count": 28,
   "metadata": {
    "collapsed": false
   },
   "outputs": [
    {
     "data": {
      "text/plain": [
       "'tigra'"
      ]
     },
     "execution_count": 28,
     "metadata": {},
     "output_type": "execute_result"
    }
   ],
   "source": [
    "rows[0][1]"
   ]
  },
  {
   "cell_type": "code",
   "execution_count": 192,
   "metadata": {
    "collapsed": false
   },
   "outputs": [],
   "source": [
    "from sklearn.ensemble import RandomForestClassifier\n",
    "import pandas as pd\n",
    "\n",
    "def Classifier(test):\n",
    "    data = pd.read_csv('complete.csv', sep=',', header=None)\n",
    "    RFClassifier = RandomForestClassifier(n_estimators=500)\n",
    "    \n",
    "    y = data[1]\n",
    "    data.drop([0, 1], axis=1, inplace=True)\n",
    "    \n",
    "    RFClassifier.fit(data, y)\n",
    "    return RFClassifier.predict(test)[0]"
   ]
  },
  {
   "cell_type": "code",
   "execution_count": 193,
   "metadata": {
    "collapsed": false
   },
   "outputs": [
    {
     "name": "stderr",
     "output_type": "stream",
     "text": [
      "C:\\Users\\Sasha\\Anaconda3\\lib\\site-packages\\sklearn\\utils\\validation.py:386: DeprecationWarning: Passing 1d arrays as data is deprecated in 0.17 and willraise ValueError in 0.19. Reshape your data either using X.reshape(-1, 1) if your data has a single feature or X.reshape(1, -1) if it contains a single sample.\n",
      "  DeprecationWarning)\n"
     ]
    },
    {
     "name": "stdout",
     "output_type": "stream",
     "text": [
      "1\n"
     ]
    }
   ],
   "source": [
    "a = Classifier([66000, 32, 76000, 30, 240, rows[0][5], rows[0][6], rows[0][7]])\n",
    "print (a)"
   ]
  },
  {
   "cell_type": "code",
   "execution_count": 152,
   "metadata": {
    "collapsed": false
   },
   "outputs": [
    {
     "data": {
      "text/plain": [
       "[(6164, 'Очеретная', 'Анна', 'Андреевна', '09.03.1975', 3, 1, 1)]"
      ]
     },
     "execution_count": 152,
     "metadata": {},
     "output_type": "execute_result"
    }
   ],
   "source": [
    "rows"
   ]
  },
  {
   "cell_type": "markdown",
   "metadata": {},
   "source": [
    "# Создать таблицу"
   ]
  },
  {
   "cell_type": "code",
   "execution_count": 118,
   "metadata": {
    "collapsed": true
   },
   "outputs": [],
   "source": [
    "with con:\n",
    "    cur = con.cursor()    \n",
    "    cur.execute(\"CREATE TABLE Bureau_of_Credit_Histories(Id INTEGER PRIMARY KEY, second_name VARCHAR(30), first_name VARCHAR(30), third_name VARCHAR(30), birth DATE, history INTEGER, current INTEGER, outstanding INTEGER)\")    \n",
    "    con.commit()"
   ]
  },
  {
   "cell_type": "code",
   "execution_count": 12,
   "metadata": {
    "collapsed": false
   },
   "outputs": [],
   "source": [
    "with con:\n",
    "    cur = con.cursor()    \n",
    "    cur.execute(\"CREATE TABLE Admins(Id INTEGER PRIMARY KEY, name VARCHAR(30), password VARCHAR(30))\")    \n",
    "    con.commit()"
   ]
  },
  {
   "cell_type": "code",
   "execution_count": 27,
   "metadata": {
    "collapsed": true
   },
   "outputs": [],
   "source": [
    "with con:\n",
    "    cur = con.cursor()    \n",
    "    cur.execute(\"CREATE TABLE Clients(Id INTEGER PRIMARY KEY, result BOOLEAN, second_name VARCHAR(30), first_name VARCHAR(30), third_name VARCHAR(30), birth DATE, email VARCHAR(50), salary INTEGER, childrens INTEGER, experience INTEGER, amount_of_credit INTEGER, payout_period INTEGER, credits_history INTEGER, number_of_current_credits INTEGER, number_of_outstanding_credits INTEGER, created_date DATE, published_date DATE)\")    \n",
    "    con.commit()"
   ]
  },
  {
   "cell_type": "code",
   "execution_count": 248,
   "metadata": {
    "collapsed": true
   },
   "outputs": [],
   "source": [
    "with con:\n",
    "    cur = con.cursor()    \n",
    "    cur.execute(\"CREATE TABLE estimator_data(Id INTEGER PRIMARY KEY, result bit, salary INTEGER, age INTEGER, amount_of_credit INTEGER, payout_period INTEGER, experience INTEGER, credits_history INTEGER, number_of_current_credits INTEGER, number_of_outstanding_credits INTEGER)\")    \n",
    "    con.commit()"
   ]
  },
  {
   "cell_type": "markdown",
   "metadata": {},
   "source": [
    "# Удалить таблицу"
   ]
  },
  {
   "cell_type": "code",
   "execution_count": 245,
   "metadata": {
    "collapsed": true
   },
   "outputs": [],
   "source": [
    "with con:\n",
    "    cur = con.cursor()    \n",
    "    cur.execute(\"DROP TABLE estimator_data\")    \n",
    "    con.commit()\n",
    "\n"
   ]
  },
  {
   "cell_type": "code",
   "execution_count": 257,
   "metadata": {
    "collapsed": true
   },
   "outputs": [],
   "source": [
    "with con:\n",
    "    cur = con.cursor()    \n",
    "    cur.execute(\"DELETE FROM estimator_data \")    \n",
    "    con.commit()\n"
   ]
  },
  {
   "cell_type": "markdown",
   "metadata": {},
   "source": [
    "# Запись в таблицу"
   ]
  },
  {
   "cell_type": "code",
   "execution_count": 113,
   "metadata": {
    "collapsed": true
   },
   "outputs": [],
   "source": [
    "file_obj = open('BOCH.txt', 'r')\n",
    "data = list(file_obj)\n",
    "\n",
    "for i in range(len(data)):\n",
    "    data[i] = data[i].split()"
   ]
  },
  {
   "cell_type": "code",
   "execution_count": 130,
   "metadata": {
    "collapsed": false
   },
   "outputs": [],
   "source": [
    "for i in range(len(data)):\n",
    "    if i > 8526:\n",
    "        with con:\n",
    "            cur = con.cursor()    \n",
    "            cur.execute(\"insert into Bureau_of_Credit_Histories(Id, second_name, first_name, third_name, birth, history, current, outstanding) values (?,?,?,?,?,?,?,?)\", data[i])  \n",
    "            con.commit()\n",
    "\n"
   ]
  },
  {
   "cell_type": "code",
   "execution_count": 34,
   "metadata": {
    "collapsed": true
   },
   "outputs": [],
   "source": [
    "log = 'admin1'\n",
    "password = 'qwerty'"
   ]
  },
  {
   "cell_type": "code",
   "execution_count": 22,
   "metadata": {
    "collapsed": true
   },
   "outputs": [],
   "source": [
    "with con:\n",
    "    cur = con.cursor()\n",
    "    cur.execute(\"select * from estimator_data\")\n",
    "    rows = cur.fetchall()"
   ]
  },
  {
   "cell_type": "raw",
   "metadata": {},
   "source": []
  },
  {
   "cell_type": "code",
   "execution_count": 19,
   "metadata": {
    "collapsed": false
   },
   "outputs": [],
   "source": [
    "with con:\n",
    "cur = con.cursor()    \n",
    "    cur.execute(\"insert into estimator_data(Id, result, salary, age, amount_of_credit, payout_period, experience, credits_history, number_of_current_credits, number_of_outstanding_credits) values (?,?,?,?,?,?,?,?,?,?)\", \n",
    "    [len(rows)+1, int(result), salary, age, amount_of_credit, payout_period, experience, credits_history, number_of_current_credits, number_of_outstanding_credits])  \n",
    "    con.commit()"
   ]
  },
  {
   "cell_type": "code",
   "execution_count": 134,
   "metadata": {
    "collapsed": false
   },
   "outputs": [
    {
     "data": {
      "text/plain": [
       "9704"
      ]
     },
     "execution_count": 134,
     "metadata": {},
     "output_type": "execute_result"
    }
   ],
   "source": [
    "len(rows)"
   ]
  },
  {
   "cell_type": "code",
   "execution_count": 30,
   "metadata": {
    "collapsed": true
   },
   "outputs": [],
   "source": [
    "import pandas as pd"
   ]
  },
  {
   "cell_type": "code",
   "execution_count": 251,
   "metadata": {
    "collapsed": false
   },
   "outputs": [
    {
     "data": {
      "text/html": [
       "<div>\n",
       "<table border=\"1\" class=\"dataframe\">\n",
       "  <thead>\n",
       "    <tr style=\"text-align: right;\">\n",
       "      <th></th>\n",
       "      <th>0</th>\n",
       "      <th>1</th>\n",
       "      <th>2</th>\n",
       "      <th>3</th>\n",
       "      <th>4</th>\n",
       "      <th>5</th>\n",
       "      <th>6</th>\n",
       "      <th>7</th>\n",
       "      <th>8</th>\n",
       "      <th>9</th>\n",
       "    </tr>\n",
       "  </thead>\n",
       "  <tbody>\n",
       "    <tr>\n",
       "      <th>0</th>\n",
       "      <td>0</td>\n",
       "      <td>1</td>\n",
       "      <td>36000.0</td>\n",
       "      <td>32.0</td>\n",
       "      <td>276000.0</td>\n",
       "      <td>30</td>\n",
       "      <td>240</td>\n",
       "      <td>3.0</td>\n",
       "      <td>1.0</td>\n",
       "      <td>0.0</td>\n",
       "    </tr>\n",
       "    <tr>\n",
       "      <th>1</th>\n",
       "      <td>1</td>\n",
       "      <td>0</td>\n",
       "      <td>38000.0</td>\n",
       "      <td>35.0</td>\n",
       "      <td>631000.0</td>\n",
       "      <td>24</td>\n",
       "      <td>84</td>\n",
       "      <td>2.0</td>\n",
       "      <td>1.0</td>\n",
       "      <td>1.0</td>\n",
       "    </tr>\n",
       "    <tr>\n",
       "      <th>2</th>\n",
       "      <td>2</td>\n",
       "      <td>1</td>\n",
       "      <td>141000.0</td>\n",
       "      <td>61.0</td>\n",
       "      <td>645000.0</td>\n",
       "      <td>60</td>\n",
       "      <td>36</td>\n",
       "      <td>3.0</td>\n",
       "      <td>1.0</td>\n",
       "      <td>0.0</td>\n",
       "    </tr>\n",
       "    <tr>\n",
       "      <th>3</th>\n",
       "      <td>3</td>\n",
       "      <td>1</td>\n",
       "      <td>102000.0</td>\n",
       "      <td>24.0</td>\n",
       "      <td>442000.0</td>\n",
       "      <td>30</td>\n",
       "      <td>258</td>\n",
       "      <td>2.0</td>\n",
       "      <td>0.0</td>\n",
       "      <td>0.0</td>\n",
       "    </tr>\n",
       "    <tr>\n",
       "      <th>4</th>\n",
       "      <td>4</td>\n",
       "      <td>1</td>\n",
       "      <td>80000.0</td>\n",
       "      <td>51.0</td>\n",
       "      <td>182000.0</td>\n",
       "      <td>54</td>\n",
       "      <td>60</td>\n",
       "      <td>4.0</td>\n",
       "      <td>0.0</td>\n",
       "      <td>0.0</td>\n",
       "    </tr>\n",
       "  </tbody>\n",
       "</table>\n",
       "</div>"
      ],
      "text/plain": [
       "   0  1         2     3         4   5    6    7    8    9\n",
       "0  0  1   36000.0  32.0  276000.0  30  240  3.0  1.0  0.0\n",
       "1  1  0   38000.0  35.0  631000.0  24   84  2.0  1.0  1.0\n",
       "2  2  1  141000.0  61.0  645000.0  60   36  3.0  1.0  0.0\n",
       "3  3  1  102000.0  24.0  442000.0  30  258  2.0  0.0  0.0\n",
       "4  4  1   80000.0  51.0  182000.0  54   60  4.0  0.0  0.0"
      ]
     },
     "execution_count": 251,
     "metadata": {},
     "output_type": "execute_result"
    }
   ],
   "source": [
    "data = pd.read_csv('complete.csv', sep=',', header=None)\n",
    "data.head()"
   ]
  },
  {
   "cell_type": "code",
   "execution_count": 114,
   "metadata": {
    "collapsed": false
   },
   "outputs": [
    {
     "data": {
      "text/plain": [
       "(3665, 1, 34000, 36, 142000, 12, 186, 4, 1, 0)"
      ]
     },
     "execution_count": 114,
     "metadata": {},
     "output_type": "execute_result"
    }
   ],
   "source": [
    "rows[3665]"
   ]
  },
  {
   "cell_type": "code",
   "execution_count": 260,
   "metadata": {
    "collapsed": false
   },
   "outputs": [],
   "source": [
    "for i in range(len(data)):\n",
    "    with con:\n",
    "        cur = con.cursor()    \n",
    "        cur.execute(\"insert into estimator_data(Id, result, salary, age, amount_of_credit, payout_period, experience, credits_history, number_of_current_credits, number_of_outstanding_credits) values (?,?,?,?,?,?,?,?,?,?)\", list(data.loc[i]))  \n",
    "        con.commit()\n",
    "   "
   ]
  },
  {
   "cell_type": "code",
   "execution_count": 109,
   "metadata": {
    "collapsed": false
   },
   "outputs": [
    {
     "data": {
      "text/plain": [
       "[1.0, 0.0, 38000.0, 35.0, 631000.0, 24.0, 84.0, 2.0, 1.0, 1.0]"
      ]
     },
     "execution_count": 109,
     "metadata": {},
     "output_type": "execute_result"
    }
   ],
   "source": [
    "len()"
   ]
  },
  {
   "cell_type": "markdown",
   "metadata": {},
   "source": [
    "# Вывод результата"
   ]
  },
  {
   "cell_type": "code",
   "execution_count": 18,
   "metadata": {
    "collapsed": false
   },
   "outputs": [],
   "source": [
    "with con:    \n",
    "    cur = con.cursor()    \n",
    "    cur.execute(\"SELECT * FROM Admins\")\n",
    "    rows = cur.fetchall()\n",
    " \n"
   ]
  },
  {
   "cell_type": "code",
   "execution_count": 19,
   "metadata": {
    "collapsed": false
   },
   "outputs": [
    {
     "data": {
      "text/plain": [
       "[(1, 'tigra', '645213')]"
      ]
     },
     "execution_count": 19,
     "metadata": {},
     "output_type": "execute_result"
    }
   ],
   "source": [
    "rows"
   ]
  },
  {
   "cell_type": "code",
   "execution_count": 42,
   "metadata": {
    "collapsed": true
   },
   "outputs": [],
   "source": [
    "a = 0"
   ]
  },
  {
   "cell_type": "code",
   "execution_count": 43,
   "metadata": {
    "collapsed": true
   },
   "outputs": [],
   "source": [
    "def b():\n",
    "    a = 1"
   ]
  },
  {
   "cell_type": "code",
   "execution_count": 44,
   "metadata": {
    "collapsed": false
   },
   "outputs": [
    {
     "name": "stdout",
     "output_type": "stream",
     "text": [
      "0\n"
     ]
    }
   ],
   "source": [
    "b \n",
    "print (a)"
   ]
  },
  {
   "cell_type": "code",
   "execution_count": 200,
   "metadata": {
    "collapsed": true
   },
   "outputs": [],
   "source": [
    "\n",
    "Second_Name = 'Синев'\n",
    "Name = 'Иван'\n",
    "Last_Name = 'Олегович'\n",
    "birth = '1954-03-20'\n",
    "birth = \".\".join([str(birth).split(\"-\")[2], str(birth).split(\"-\")[1], str(birth).split(\"-\")[0]])"
   ]
  },
  {
   "cell_type": "code",
   "execution_count": 201,
   "metadata": {
    "collapsed": false
   },
   "outputs": [
    {
     "data": {
      "text/plain": [
       "'20.03.1954'"
      ]
     },
     "execution_count": 201,
     "metadata": {},
     "output_type": "execute_result"
    }
   ],
   "source": [
    "birth"
   ]
  },
  {
   "cell_type": "code",
   "execution_count": 202,
   "metadata": {
    "collapsed": true
   },
   "outputs": [],
   "source": [
    "with con:\n",
    "    cur = con.cursor()    \n",
    "    cur.execute(\"Select * FROM Bureau_of_Credit_Histories WHERE first_name=? and second_Name=? and third_name=? and birth=?\", [Name, Second_Name, Last_Name, birth])         \n",
    "    rows = cur.fetchall()"
   ]
  },
  {
   "cell_type": "code",
   "execution_count": 203,
   "metadata": {
    "collapsed": false
   },
   "outputs": [
    {
     "data": {
      "text/plain": [
       "[(7573, 'Синев', 'Иван', 'Олегович', '20.03.1954', 1, 0, 1)]"
      ]
     },
     "execution_count": 203,
     "metadata": {},
     "output_type": "execute_result"
    }
   ],
   "source": [
    "rows"
   ]
  },
  {
   "cell_type": "code",
   "execution_count": 207,
   "metadata": {
    "collapsed": false
   },
   "outputs": [
    {
     "name": "stderr",
     "output_type": "stream",
     "text": [
      "C:\\Users\\Sasha\\Anaconda3\\lib\\site-packages\\sklearn\\utils\\validation.py:386: DeprecationWarning: Passing 1d arrays as data is deprecated in 0.17 and willraise ValueError in 0.19. Reshape your data either using X.reshape(-1, 1) if your data has a single feature or X.reshape(1, -1) if it contains a single sample.\n",
      "  DeprecationWarning)\n"
     ]
    }
   ],
   "source": [
    "a = Classifier([66000, 32, 76000, 30, 240, rows[0][5], rows[0][6], rows[0][7]])"
   ]
  },
  {
   "cell_type": "code",
   "execution_count": 261,
   "metadata": {
    "collapsed": true
   },
   "outputs": [],
   "source": [
    "with con:    \n",
    "    cur = con.cursor()    \n",
    "    cur.execute(\"SELECT * FROM estimator_data\")  \n",
    "    rows = cur.fetchall()"
   ]
  },
  {
   "cell_type": "code",
   "execution_count": 264,
   "metadata": {
    "collapsed": false
   },
   "outputs": [
    {
     "data": {
      "text/plain": [
       "(9999, 1, 31000, 37, 165000, 48, 30, 2, 0, 0)"
      ]
     },
     "execution_count": 264,
     "metadata": {},
     "output_type": "execute_result"
    }
   ],
   "source": [
    "rows[10000-1]"
   ]
  },
  {
   "cell_type": "code",
   "execution_count": 235,
   "metadata": {
    "collapsed": false
   },
   "outputs": [
    {
     "ename": "OperationalError",
     "evalue": "near \"MODIFY\": syntax error",
     "output_type": "error",
     "traceback": [
      "\u001b[1;31m---------------------------------------------------------------------------\u001b[0m",
      "\u001b[1;31mOperationalError\u001b[0m                          Traceback (most recent call last)",
      "\u001b[1;32m<ipython-input-235-9b560510423d>\u001b[0m in \u001b[0;36m<module>\u001b[1;34m()\u001b[0m\n\u001b[0;32m      1\u001b[0m \u001b[1;32mwith\u001b[0m \u001b[0mcon\u001b[0m\u001b[1;33m:\u001b[0m\u001b[1;33m\u001b[0m\u001b[0m\n\u001b[0;32m      2\u001b[0m     \u001b[0mcur\u001b[0m \u001b[1;33m=\u001b[0m \u001b[0mcon\u001b[0m\u001b[1;33m.\u001b[0m\u001b[0mcursor\u001b[0m\u001b[1;33m(\u001b[0m\u001b[1;33m)\u001b[0m\u001b[1;33m\u001b[0m\u001b[0m\n\u001b[1;32m----> 3\u001b[1;33m     \u001b[0mcur\u001b[0m\u001b[1;33m.\u001b[0m\u001b[0mexecute\u001b[0m\u001b[1;33m(\u001b[0m\u001b[1;34m\"ALTER TABLE estimator_data MODIFY result TYPE INTEGER\"\u001b[0m\u001b[1;33m)\u001b[0m\u001b[1;33m\u001b[0m\u001b[0m\n\u001b[0m\u001b[0;32m      4\u001b[0m     \u001b[0mcon\u001b[0m\u001b[1;33m.\u001b[0m\u001b[0mcommit\u001b[0m\u001b[1;33m(\u001b[0m\u001b[1;33m)\u001b[0m\u001b[1;33m\u001b[0m\u001b[0m\n",
      "\u001b[1;31mOperationalError\u001b[0m: near \"MODIFY\": syntax error"
     ]
    }
   ],
   "source": [
    "with con:\n",
    "    cur = con.cursor()    \n",
    "    cur.execute(\"ALTER TABLE estimator_data MODIFY result TYPE INTEGER\")  \n",
    "    con.commit()"
   ]
  }
 ],
 "metadata": {
  "anaconda-cloud": {},
  "kernelspec": {
   "display_name": "Python [Root]",
   "language": "python",
   "name": "Python [Root]"
  },
  "language_info": {
   "codemirror_mode": {
    "name": "ipython",
    "version": 3
   },
   "file_extension": ".py",
   "mimetype": "text/x-python",
   "name": "python",
   "nbconvert_exporter": "python",
   "pygments_lexer": "ipython3",
   "version": "3.5.2"
  }
 },
 "nbformat": 4,
 "nbformat_minor": 0
}
